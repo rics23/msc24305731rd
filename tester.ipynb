{
 "cells": [
  {
   "cell_type": "code",
   "id": "initial_id",
   "metadata": {
    "collapsed": true,
    "ExecuteTime": {
     "end_time": "2024-08-25T16:54:59.550238Z",
     "start_time": "2024-08-25T16:54:31.701712Z"
    }
   },
   "source": [
    "import pandas as pd\n",
    "df = pd.read_xml('data/pan12-sexual-predator-identification-training-corpus-2012-05-01/pan12-sexual-predator-identification-training-corpus-2012-05-01.xml')\n",
    "print(df.head())"
   ],
   "outputs": [
    {
     "ename": "ImportError",
     "evalue": "lxml not found, please install or use the etree parser.",
     "output_type": "error",
     "traceback": [
      "\u001B[0;31m---------------------------------------------------------------------------\u001B[0m",
      "\u001B[0;31mImportError\u001B[0m                               Traceback (most recent call last)",
      "Cell \u001B[0;32mIn[1], line 2\u001B[0m\n\u001B[1;32m      1\u001B[0m \u001B[38;5;28;01mimport\u001B[39;00m \u001B[38;5;21;01mpandas\u001B[39;00m \u001B[38;5;28;01mas\u001B[39;00m \u001B[38;5;21;01mpd\u001B[39;00m\n\u001B[0;32m----> 2\u001B[0m df \u001B[38;5;241m=\u001B[39m \u001B[43mpd\u001B[49m\u001B[38;5;241;43m.\u001B[39;49m\u001B[43mread_xml\u001B[49m\u001B[43m(\u001B[49m\u001B[38;5;124;43m'\u001B[39;49m\u001B[38;5;124;43mdata/pan12-sexual-predator-identification-training-corpus-2012-05-01/pan12-sexual-predator-identification-training-corpus-2012-05-01.xml\u001B[39;49m\u001B[38;5;124;43m'\u001B[39;49m\u001B[43m)\u001B[49m\n\u001B[1;32m      3\u001B[0m \u001B[38;5;28mprint\u001B[39m(df\u001B[38;5;241m.\u001B[39mhead())\n",
      "File \u001B[0;32m~/PycharmProjects/msc24305731rd/.venv/lib/python3.11/site-packages/pandas/io/xml.py:1160\u001B[0m, in \u001B[0;36mread_xml\u001B[0;34m(path_or_buffer, xpath, namespaces, elems_only, attrs_only, names, dtype, converters, parse_dates, encoding, parser, stylesheet, iterparse, compression, storage_options, dtype_backend)\u001B[0m\n\u001B[1;32m    888\u001B[0m \u001B[38;5;250m\u001B[39m\u001B[38;5;124mr\u001B[39m\u001B[38;5;124;03m\"\"\"\u001B[39;00m\n\u001B[1;32m    889\u001B[0m \u001B[38;5;124;03mRead XML document into a :class:`~pandas.DataFrame` object.\u001B[39;00m\n\u001B[1;32m    890\u001B[0m \n\u001B[0;32m   (...)\u001B[0m\n\u001B[1;32m   1156\u001B[0m \u001B[38;5;124;03m1      1  <NA>  4.5  False  b 2019-12-31\u001B[39;00m\n\u001B[1;32m   1157\u001B[0m \u001B[38;5;124;03m\"\"\"\u001B[39;00m\n\u001B[1;32m   1158\u001B[0m check_dtype_backend(dtype_backend)\n\u001B[0;32m-> 1160\u001B[0m \u001B[38;5;28;01mreturn\u001B[39;00m \u001B[43m_parse\u001B[49m\u001B[43m(\u001B[49m\n\u001B[1;32m   1161\u001B[0m \u001B[43m    \u001B[49m\u001B[43mpath_or_buffer\u001B[49m\u001B[38;5;241;43m=\u001B[39;49m\u001B[43mpath_or_buffer\u001B[49m\u001B[43m,\u001B[49m\n\u001B[1;32m   1162\u001B[0m \u001B[43m    \u001B[49m\u001B[43mxpath\u001B[49m\u001B[38;5;241;43m=\u001B[39;49m\u001B[43mxpath\u001B[49m\u001B[43m,\u001B[49m\n\u001B[1;32m   1163\u001B[0m \u001B[43m    \u001B[49m\u001B[43mnamespaces\u001B[49m\u001B[38;5;241;43m=\u001B[39;49m\u001B[43mnamespaces\u001B[49m\u001B[43m,\u001B[49m\n\u001B[1;32m   1164\u001B[0m \u001B[43m    \u001B[49m\u001B[43melems_only\u001B[49m\u001B[38;5;241;43m=\u001B[39;49m\u001B[43melems_only\u001B[49m\u001B[43m,\u001B[49m\n\u001B[1;32m   1165\u001B[0m \u001B[43m    \u001B[49m\u001B[43mattrs_only\u001B[49m\u001B[38;5;241;43m=\u001B[39;49m\u001B[43mattrs_only\u001B[49m\u001B[43m,\u001B[49m\n\u001B[1;32m   1166\u001B[0m \u001B[43m    \u001B[49m\u001B[43mnames\u001B[49m\u001B[38;5;241;43m=\u001B[39;49m\u001B[43mnames\u001B[49m\u001B[43m,\u001B[49m\n\u001B[1;32m   1167\u001B[0m \u001B[43m    \u001B[49m\u001B[43mdtype\u001B[49m\u001B[38;5;241;43m=\u001B[39;49m\u001B[43mdtype\u001B[49m\u001B[43m,\u001B[49m\n\u001B[1;32m   1168\u001B[0m \u001B[43m    \u001B[49m\u001B[43mconverters\u001B[49m\u001B[38;5;241;43m=\u001B[39;49m\u001B[43mconverters\u001B[49m\u001B[43m,\u001B[49m\n\u001B[1;32m   1169\u001B[0m \u001B[43m    \u001B[49m\u001B[43mparse_dates\u001B[49m\u001B[38;5;241;43m=\u001B[39;49m\u001B[43mparse_dates\u001B[49m\u001B[43m,\u001B[49m\n\u001B[1;32m   1170\u001B[0m \u001B[43m    \u001B[49m\u001B[43mencoding\u001B[49m\u001B[38;5;241;43m=\u001B[39;49m\u001B[43mencoding\u001B[49m\u001B[43m,\u001B[49m\n\u001B[1;32m   1171\u001B[0m \u001B[43m    \u001B[49m\u001B[43mparser\u001B[49m\u001B[38;5;241;43m=\u001B[39;49m\u001B[43mparser\u001B[49m\u001B[43m,\u001B[49m\n\u001B[1;32m   1172\u001B[0m \u001B[43m    \u001B[49m\u001B[43mstylesheet\u001B[49m\u001B[38;5;241;43m=\u001B[39;49m\u001B[43mstylesheet\u001B[49m\u001B[43m,\u001B[49m\n\u001B[1;32m   1173\u001B[0m \u001B[43m    \u001B[49m\u001B[43miterparse\u001B[49m\u001B[38;5;241;43m=\u001B[39;49m\u001B[43miterparse\u001B[49m\u001B[43m,\u001B[49m\n\u001B[1;32m   1174\u001B[0m \u001B[43m    \u001B[49m\u001B[43mcompression\u001B[49m\u001B[38;5;241;43m=\u001B[39;49m\u001B[43mcompression\u001B[49m\u001B[43m,\u001B[49m\n\u001B[1;32m   1175\u001B[0m \u001B[43m    \u001B[49m\u001B[43mstorage_options\u001B[49m\u001B[38;5;241;43m=\u001B[39;49m\u001B[43mstorage_options\u001B[49m\u001B[43m,\u001B[49m\n\u001B[1;32m   1176\u001B[0m \u001B[43m    \u001B[49m\u001B[43mdtype_backend\u001B[49m\u001B[38;5;241;43m=\u001B[39;49m\u001B[43mdtype_backend\u001B[49m\u001B[43m,\u001B[49m\n\u001B[1;32m   1177\u001B[0m \u001B[43m\u001B[49m\u001B[43m)\u001B[49m\n",
      "File \u001B[0;32m~/PycharmProjects/msc24305731rd/.venv/lib/python3.11/site-packages/pandas/io/xml.py:830\u001B[0m, in \u001B[0;36m_parse\u001B[0;34m(path_or_buffer, xpath, namespaces, elems_only, attrs_only, names, dtype, converters, parse_dates, encoding, parser, stylesheet, iterparse, compression, storage_options, dtype_backend, **kwargs)\u001B[0m\n\u001B[1;32m    813\u001B[0m         p \u001B[38;5;241m=\u001B[39m _LxmlFrameParser(\n\u001B[1;32m    814\u001B[0m             path_or_buffer,\n\u001B[1;32m    815\u001B[0m             xpath,\n\u001B[0;32m   (...)\u001B[0m\n\u001B[1;32m    827\u001B[0m             storage_options,\n\u001B[1;32m    828\u001B[0m         )\n\u001B[1;32m    829\u001B[0m     \u001B[38;5;28;01melse\u001B[39;00m:\n\u001B[0;32m--> 830\u001B[0m         \u001B[38;5;28;01mraise\u001B[39;00m \u001B[38;5;167;01mImportError\u001B[39;00m(\u001B[38;5;124m\"\u001B[39m\u001B[38;5;124mlxml not found, please install or use the etree parser.\u001B[39m\u001B[38;5;124m\"\u001B[39m)\n\u001B[1;32m    832\u001B[0m \u001B[38;5;28;01melif\u001B[39;00m parser \u001B[38;5;241m==\u001B[39m \u001B[38;5;124m\"\u001B[39m\u001B[38;5;124metree\u001B[39m\u001B[38;5;124m\"\u001B[39m:\n\u001B[1;32m    833\u001B[0m     p \u001B[38;5;241m=\u001B[39m _EtreeFrameParser(\n\u001B[1;32m    834\u001B[0m         path_or_buffer,\n\u001B[1;32m    835\u001B[0m         xpath,\n\u001B[0;32m   (...)\u001B[0m\n\u001B[1;32m    847\u001B[0m         storage_options,\n\u001B[1;32m    848\u001B[0m     )\n",
      "\u001B[0;31mImportError\u001B[0m: lxml not found, please install or use the etree parser."
     ]
    }
   ],
   "execution_count": 1
  },
  {
   "metadata": {},
   "cell_type": "code",
   "outputs": [],
   "execution_count": null,
   "source": "",
   "id": "b986c1c354599de4"
  }
 ],
 "metadata": {
  "kernelspec": {
   "display_name": "Python 3",
   "language": "python",
   "name": "python3"
  },
  "language_info": {
   "codemirror_mode": {
    "name": "ipython",
    "version": 2
   },
   "file_extension": ".py",
   "mimetype": "text/x-python",
   "name": "python",
   "nbconvert_exporter": "python",
   "pygments_lexer": "ipython2",
   "version": "2.7.6"
  }
 },
 "nbformat": 4,
 "nbformat_minor": 5
}
